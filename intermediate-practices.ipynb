{
 "cells": [
  {
   "cell_type": "code",
   "execution_count": 8,
   "id": "2d620dfc",
   "metadata": {},
   "outputs": [
    {
     "name": "stdout",
     "output_type": "stream",
     "text": [
      "natural_nums - [1, 2, 3, 4, 5]\n",
      "integer_nums - [-1, -2, 0, 1, 2]\n",
      "flaoting_nums - [1.1, 4.5, 6.43]\n"
     ]
    }
   ],
   "source": [
    "def run():\n",
    "    my_list =[1,\"Hello\",True,4.5]\n",
    "    my_dict = {\"firstname\": \"Lenny\", \"lastname\": \"Briones\"}\n",
    "    \n",
    "    super_list = [\n",
    "        {\"firstname\": \"Lenny\", \"lastname\": \"Briones\"},\n",
    "        {\"firstname\": \"Juan\", \"lastname\": \"Lopez\"},\n",
    "        {\"firstname\": \"Pedro\", \"lastname\": \"Perez\"},\n",
    "        {\"firstname\": \"Miguel\", \"lastname\": \"Barrera\"},\n",
    "        {\"firstname\": \"Pepe\", \"lastname\": \"Escutia\"}\n",
    "    ]\n",
    "    \n",
    "    super_dict ={\n",
    "        \"natural_nums\": [1,2,3,4,5],\n",
    "        \"integer_nums\": [-1,-2,0,1,2],\n",
    "        \"flaoting_nums\": [1.1,4.5,6.43]\n",
    "    }\n",
    "    \n",
    "    for key, value in super_dict.items():\n",
    "        print(key,\"-\", value)\n",
    "    \n",
    "if __name__ == \"__main__\":\n",
    "    run()"
   ]
  },
  {
   "cell_type": "code",
   "execution_count": null,
   "id": "486651f3",
   "metadata": {},
   "outputs": [],
   "source": []
  }
 ],
 "metadata": {
  "kernelspec": {
   "display_name": "Python 3 (ipykernel)",
   "language": "python",
   "name": "python3"
  },
  "language_info": {
   "codemirror_mode": {
    "name": "ipython",
    "version": 3
   },
   "file_extension": ".py",
   "mimetype": "text/x-python",
   "name": "python",
   "nbconvert_exporter": "python",
   "pygments_lexer": "ipython3",
   "version": "3.10.6"
  }
 },
 "nbformat": 4,
 "nbformat_minor": 5
}
