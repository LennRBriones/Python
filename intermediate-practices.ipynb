{
 "cells": [
  {
   "cell_type": "markdown",
   "id": "8ec6d365",
   "metadata": {},
   "source": [
    "# Bienvenido a las prácticas de conocimiento intermedio de Python"
   ]
  },
  {
   "cell_type": "markdown",
   "id": "13e1436a",
   "metadata": {},
   "source": [
    "### Listas y Diccionarios anidados"
   ]
  },
  {
   "cell_type": "code",
   "execution_count": null,
   "id": "2d620dfc",
   "metadata": {},
   "outputs": [],
   "source": [
    "def run():\n",
    "    my_list =[1,\"Hello\",True,4.5]\n",
    "    my_dict = {\"firstname\": \"Lenny\", \"lastname\": \"Briones\"}\n",
    "    \n",
    "    super_list = [\n",
    "        {\"firstname\": \"Lenny\", \"lastname\": \"Briones\"},\n",
    "        {\"firstname\": \"Juan\", \"lastname\": \"Lopez\"},\n",
    "        {\"firstname\": \"Pedro\", \"lastname\": \"Perez\"},\n",
    "        {\"firstname\": \"Miguel\", \"lastname\": \"Barrera\"},\n",
    "        {\"firstname\": \"Pepe\", \"lastname\": \"Escutia\"}\n",
    "    ]\n",
    "    \n",
    "    super_dict ={\n",
    "        \"natural_nums\": [1,2,3,4,5],\n",
    "        \"integer_nums\": [-1,-2,0,1,2],\n",
    "        \"flaoting_nums\": [1.1,4.5,6.43]\n",
    "    }\n",
    "    \n",
    "    for key, value in super_dict.items():\n",
    "        print(key,\"-\", value)\n",
    "    \n",
    "    ##Imprimir hora los vaores de super list\n",
    "    \n",
    "    for item in super_list:\n",
    "            print(item[\"firstname\"], \"-\", item[\"lastname\"])\n",
    "    \n",
    "if __name__ == \"__main__\":\n",
    "    run()"
   ]
  },
  {
   "cell_type": "markdown",
   "id": "e548fd91",
   "metadata": {},
   "source": [
    "### List Comprehensions"
   ]
  },
  {
   "cell_type": "code",
   "execution_count": null,
   "id": "c6c9f571",
   "metadata": {},
   "outputs": [],
   "source": [
    "def run():\n",
    "    squares =[]\n",
    "    for i in range(1,101):\n",
    "        squares.append(i**2)\n",
    "  #recuerda que con el append estas modificando una lista\n",
    "  #en este caso estás guardando cada i al cuadrado una por una \n",
    "    print(squares)\n",
    "    \n",
    "    \n",
    "if __name__ == \"__main__\" :\n",
    "    run()"
   ]
  },
  {
   "cell_type": "markdown",
   "id": "9524c1b5",
   "metadata": {},
   "source": [
    "### ahora solo de los que no son divisibles entre 3"
   ]
  },
  {
   "cell_type": "code",
   "execution_count": null,
   "id": "776a5119",
   "metadata": {},
   "outputs": [],
   "source": [
    "def run():\n",
    "    squares =[]\n",
    "    for i in range(1,101):\n",
    "        if i % 3 != 0:\n",
    "            squares.append(i**2)\n",
    "  #recuerda que con el append estas modificando una lista\n",
    "  #en este caso estás guardando cada i al cuadrado una por una \n",
    "    print(squares)\n",
    "    \n",
    "    \n",
    "if __name__ == \"__main__\" :\n",
    "    run()"
   ]
  },
  {
   "cell_type": "markdown",
   "id": "c830f46f",
   "metadata": {},
   "source": [
    "### Ahora usemos list comprehensions"
   ]
  },
  {
   "cell_type": "code",
   "execution_count": null,
   "id": "4fe57de2",
   "metadata": {},
   "outputs": [],
   "source": [
    "def run():\n",
    "    squares =[i**2 for i in range(1,101) if i % 3 != 0]\n",
    "    print(squares)\n",
    "    ## Como viste, es una manera super corta de hacer este tipo de cosas condicionales\n",
    "    \n",
    "if __name__ == \"__main__\" :\n",
    "    run()"
   ]
  },
  {
   "cell_type": "code",
   "execution_count": null,
   "id": "750efffe",
   "metadata": {},
   "outputs": [],
   "source": [
    "## Usar para crear lista que muestre todos los multiplos de 4, 6 y 9, hasta 5 digitos\n",
    "def run():\n",
    "    multiple= [i for i in range(1, 100000) if i % 4 == 0 and i % 6 == 0 and i % 9 == 0]\n",
    "    print(multiple)\n",
    "        \n",
    "if __name__ == \"__main__\" :\n",
    "    run()"
   ]
  },
  {
   "cell_type": "markdown",
   "id": "25156738",
   "metadata": {},
   "source": [
    "### Diccionarios cuyas llaves sean numeros del uno al 100 y valores el numero al cubo"
   ]
  },
  {
   "cell_type": "code",
   "execution_count": null,
   "id": "2b9d156f",
   "metadata": {},
   "outputs": [],
   "source": [
    "def run():\n",
    "    my_dict={}\n",
    "    \n",
    "    for i in range(1,101):\n",
    "        if i % 3 != 0:\n",
    "            my_dict[i] = i**3\n",
    "        \n",
    "    print(my_dict)\n",
    "    \n",
    "if __name__ == \"__main__\":\n",
    "    run()"
   ]
  },
  {
   "cell_type": "markdown",
   "id": "597c5ece",
   "metadata": {},
   "source": [
    "### Dict Comprenhensions"
   ]
  },
  {
   "cell_type": "code",
   "execution_count": null,
   "id": "4c1460b0",
   "metadata": {},
   "outputs": [],
   "source": [
    "def run():\n",
    "    \n",
    "    my_dict ={i: i**3 for i in range(1, 101) if i % 3 != 0}\n",
    "    \n",
    "    print(my_dict)\n",
    "    \n",
    "if __name__ == \"__main__\":\n",
    "    run()"
   ]
  },
  {
   "cell_type": "markdown",
   "id": "41ae13af",
   "metadata": {},
   "source": [
    "### Dict Comprenhensios con llave numeros del 1 al 1000 y valor la raiz de su numero"
   ]
  },
  {
   "cell_type": "code",
   "execution_count": null,
   "id": "6bbad016",
   "metadata": {},
   "outputs": [],
   "source": [
    "def run():\n",
    "    \n",
    "    my_dict = {i: i**(1/2) for i in range(1,1001) }\n",
    "    print(my_dict)\n",
    "if __name__ == \"__main__\":\n",
    "    run()"
   ]
  },
  {
   "cell_type": "markdown",
   "id": "8d49f6c2",
   "metadata": {},
   "source": [
    "### Utilizando Lambda Functions"
   ]
  },
  {
   "cell_type": "code",
   "execution_count": null,
   "id": "220ffc94",
   "metadata": {},
   "outputs": [],
   "source": [
    "palindrome = lambda string: string == string[::-1]\n",
    "\n",
    "print(palindrome(\"ana\"))"
   ]
  },
  {
   "cell_type": "markdown",
   "id": "8fb3f952",
   "metadata": {},
   "source": [
    "### Utilizando una función tradicional para hacer lo mismo"
   ]
  },
  {
   "cell_type": "code",
   "execution_count": null,
   "id": "28639b2c",
   "metadata": {},
   "outputs": [],
   "source": [
    "def palindrome(string):\n",
    "    return string == string[::1]\n",
    "print(palindrome(\"ana\"))\n",
    "    "
   ]
  },
  {
   "cell_type": "markdown",
   "id": "7836b41e",
   "metadata": {},
   "source": [
    "## High order Functions"
   ]
  },
  {
   "cell_type": "markdown",
   "id": "1555a054",
   "metadata": {},
   "source": [
    "### -Usando list comprehensions"
   ]
  },
  {
   "cell_type": "code",
   "execution_count": null,
   "id": "277ea5d2",
   "metadata": {},
   "outputs": [],
   "source": [
    "my_list = [1,4,5,6,9,13,19,21]\n",
    "\n",
    "odd = [i for i in my_list if i % 2 != 0]\n",
    "\n",
    "print(odd)"
   ]
  },
  {
   "cell_type": "markdown",
   "id": "e42766ca",
   "metadata": {},
   "source": [
    "### Usando Filter"
   ]
  },
  {
   "cell_type": "code",
   "execution_count": null,
   "id": "4d4797a5",
   "metadata": {},
   "outputs": [],
   "source": [
    "my_list = [1,4,5,6,9,13,21]\n",
    "\n",
    "odd = list(filter(lambda x: x % 2 != 0, my_list))\n",
    "\n",
    "print(odd)"
   ]
  },
  {
   "cell_type": "markdown",
   "id": "5d03ce15",
   "metadata": {},
   "source": [
    "Sacando el cuadrado de una lista con list comprehensions"
   ]
  },
  {
   "cell_type": "code",
   "execution_count": null,
   "id": "ae02d151",
   "metadata": {},
   "outputs": [],
   "source": [
    "my_list = [1,2,3,4,5]\n",
    "\n",
    "squares = [i**2 for i in my_list]\n",
    "\n",
    "print(squares)"
   ]
  },
  {
   "cell_type": "markdown",
   "id": "0da82ea9",
   "metadata": {},
   "source": [
    "### Usando Map"
   ]
  },
  {
   "cell_type": "code",
   "execution_count": null,
   "id": "fe5c9f4b",
   "metadata": {},
   "outputs": [],
   "source": [
    "my_list = [1,2,3,4,5]\n",
    "\n",
    "squares = list(map(lambda x: x**2, my_list))\n",
    "\n",
    "print(squares)"
   ]
  },
  {
   "cell_type": "markdown",
   "id": "a45ec0aa",
   "metadata": {},
   "source": [
    "### Usando Reduce"
   ]
  },
  {
   "cell_type": "markdown",
   "id": "5873f286",
   "metadata": {},
   "source": [
    "tratando de multiplicar todos los valores de una lista sin reduce"
   ]
  },
  {
   "cell_type": "code",
   "execution_count": null,
   "id": "88e95cb4",
   "metadata": {},
   "outputs": [],
   "source": [
    "my_list = [2, 2, 2, 2, 2]\n",
    "\n",
    "all_multiplied = 1\n",
    "\n",
    "for i in my_list:\n",
    "    all_multiplied = all_multiplied * i\n",
    "    \n",
    "print(all_multiplied)"
   ]
  },
  {
   "cell_type": "markdown",
   "id": "ac39924a",
   "metadata": {},
   "source": [
    "ahora si usando reduce"
   ]
  },
  {
   "cell_type": "code",
   "execution_count": null,
   "id": "10220e8a",
   "metadata": {},
   "outputs": [],
   "source": [
    "from functools import reduce #para reduce hay que importar libreria\n",
    "\n",
    "my_list = [2, 2, 2, 2, 2]\n",
    "\n",
    "all_multiplied = reduce(lambda a, b: a*b, my_list)\n",
    "\n",
    "print(all_multiplied)"
   ]
  },
  {
   "cell_type": "markdown",
   "id": "30c0e849",
   "metadata": {},
   "source": [
    "## Filtración de datos"
   ]
  },
  {
   "cell_type": "code",
   "execution_count": null,
   "id": "9c8083f1",
   "metadata": {},
   "outputs": [],
   "source": [
    "    ##Nota: norlmalmente cunado una variable la dejas en mayusculas, es porque será constante\n",
    "DATA = [\n",
    "    {\n",
    "        'name': 'Facundo',\n",
    "        'age': 72,\n",
    "        'organization': 'Platzi',\n",
    "        'position': 'Technical Coach',\n",
    "        'language': 'python',\n",
    "    },\n",
    "    {\n",
    "        'name': 'Luisana',\n",
    "        'age': 33,\n",
    "        'organization': 'Globant',\n",
    "        'position': 'UX Designer',\n",
    "        'language': 'javascript',\n",
    "    },\n",
    "    {\n",
    "        'name': 'Héctor',\n",
    "        'age': 19,\n",
    "        'organization': 'Platzi',\n",
    "        'position': 'Associate',\n",
    "        'language': 'ruby',\n",
    "    },\n",
    "    {\n",
    "        'name': 'Gabriel',\n",
    "        'age': 20,\n",
    "        'organization': 'Platzi',\n",
    "        'position': 'Associate',\n",
    "        'language': 'javascript',\n",
    "    },\n",
    "    {\n",
    "        'name': 'Isabella',\n",
    "        'age': 30,\n",
    "        'organization': 'Platzi',\n",
    "        'position': 'QA Manager',\n",
    "        'language': 'java',\n",
    "    },\n",
    "    {\n",
    "        'name': 'Karo',\n",
    "        'age': 23,\n",
    "        'organization': 'Everis',\n",
    "        'position': 'Backend Developer',\n",
    "        'language': 'python',\n",
    "    },\n",
    "    {\n",
    "        'name': 'Ariel',\n",
    "        'age': 32,\n",
    "        'organization': 'Rappi',\n",
    "        'position': 'Support',\n",
    "        'language': '',\n",
    "    },\n",
    "    {\n",
    "        'name': 'Juan',\n",
    "        'age': 17,\n",
    "        'organization': '',\n",
    "        'position': 'Student',\n",
    "        'language': 'go',\n",
    "    },\n",
    "    {\n",
    "        'name': 'Pablo',\n",
    "        'age': 32,\n",
    "        'organization': 'Master',\n",
    "        'position': 'Human Resources Manager',\n",
    "        'language': 'python',\n",
    "    },\n",
    "    {\n",
    "        'name': 'Lorena',\n",
    "        'age': 56,\n",
    "        'organization': 'Python Organization',\n",
    "        'position': 'Language Maker',\n",
    "        'language': 'python',\n",
    "    },\n",
    "]\n",
    "\n",
    "def run():\n",
    "     all_python_devs = [worker[\"name\"] for worker in DATA if worker[\"language\"] == \"python\"] \n",
    "     all_platzi_workers = [worker[\"name\"] for worker in DATA if worker[\"organization\"] == \"Platzi\"]\n",
    "     adults = list(filter(lambda worker: worker[\"age\"] >= 18, DATA))\n",
    "     adults = list(map(lambda worker: worker[\"name\"], adults ))\n",
    "     old_people = list(map(lambda worker: worker | {\"old\" : worker[\"age\"] > 70}, DATA))\n",
    "    \n",
    "     for worker in old_people:\n",
    "        print(worker)\n",
    "    \n",
    "if __name__ == \"__main__\":\n",
    "        run()"
   ]
  },
  {
   "cell_type": "markdown",
   "id": "314cedab",
   "metadata": {},
   "source": [
    "### Crear listas all_python_devs y all_python_workers usando combinaciones de filter y map y la lista de old_people usando list comprehensions"
   ]
  },
  {
   "cell_type": "code",
   "execution_count": null,
   "id": "eea05da5",
   "metadata": {},
   "outputs": [],
   "source": [
    "DATA = [\n",
    "    {\n",
    "        'name': 'Facundo',\n",
    "        'age': 72,\n",
    "        'organization': 'Platzi',\n",
    "        'position': 'Technical Coach',\n",
    "        'language': 'python',\n",
    "    },\n",
    "    {\n",
    "        'name': 'Luisana',\n",
    "        'age': 33,\n",
    "        'organization': 'Globant',\n",
    "        'position': 'UX Designer',\n",
    "        'language': 'javascript',\n",
    "    },\n",
    "    {\n",
    "        'name': 'Héctor',\n",
    "        'age': 19,\n",
    "        'organization': 'Platzi',\n",
    "        'position': 'Associate',\n",
    "        'language': 'ruby',\n",
    "    },\n",
    "    {\n",
    "        'name': 'Gabriel',\n",
    "        'age': 20,\n",
    "        'organization': 'Platzi',\n",
    "        'position': 'Associate',\n",
    "        'language': 'javascript',\n",
    "    },\n",
    "    {\n",
    "        'name': 'Isabella',\n",
    "        'age': 30,\n",
    "        'organization': 'Platzi',\n",
    "        'position': 'QA Manager',\n",
    "        'language': 'java',\n",
    "    },\n",
    "    {\n",
    "        'name': 'Karo',\n",
    "        'age': 23,\n",
    "        'organization': 'Everis',\n",
    "        'position': 'Backend Developer',\n",
    "        'language': 'python',\n",
    "    },\n",
    "    {\n",
    "        'name': 'Ariel',\n",
    "        'age': 32,\n",
    "        'organization': 'Rappi',\n",
    "        'position': 'Support',\n",
    "        'language': '',\n",
    "    },\n",
    "    {\n",
    "        'name': 'Juan',\n",
    "        'age': 17,\n",
    "        'organization': '',\n",
    "        'position': 'Student',\n",
    "        'language': 'go',\n",
    "    },\n",
    "    {\n",
    "        'name': 'Pablo',\n",
    "        'age': 32,\n",
    "        'organization': 'Master',\n",
    "        'position': 'Human Resources Manager',\n",
    "        'language': 'python',\n",
    "    },\n",
    "    {\n",
    "        'name': 'Lorena',\n",
    "        'age': 56,\n",
    "        'organization': 'Python Organization',\n",
    "        'position': 'Language Maker',\n",
    "        'language': 'python',\n",
    "    },\n",
    "]\n",
    "\n",
    "def run():\n",
    "    all_python_devs = list(filter(lambda worker: worker[\"language\"] == \"python\", DATA))\n",
    "    all_python_devs = list(map(lambda worker: worker['name'], all_python_devs))\n",
    "    all_platzi_workers = list(filter(lambda worker: worker[\"organization\"] == \"Platzi\", DATA))\n",
    "    all_platzi_workers = list(map(lambda worker: worker[\"name\"], all_platzi_workers))\n",
    "    adults = [worker[\"name\"] for worker in DATA if worker[\"age\"] > 18]\n",
    "    old_confirmation = lambda worker_age: worker_age > 70\n",
    "    old_people = [worker | {\"old\": old_confirmation(worker[\"age\"])} for worker in DATA]\n",
    "\n",
    "    for worker in old_people:\n",
    "        print(worker)\n",
    "\n",
    "\n",
    "if __name__ == \"__main__\":\n",
    "    run()"
   ]
  },
  {
   "cell_type": "markdown",
   "id": "8cd1fe43",
   "metadata": {},
   "source": [
    "## Map (otro ejemplo)"
   ]
  },
  {
   "cell_type": "code",
   "execution_count": null,
   "id": "84a5463d",
   "metadata": {},
   "outputs": [],
   "source": [
    "#Usando metodo tradicional\n",
    "\n",
    "numbers = [1, 2, 3, 4]\n",
    "numbers_v2 = []\n",
    "\n",
    "for i in numbers:\n",
    "    numbers_v2.append(i  * 2)\n",
    "print(numbers)\n",
    "print(numbers_v2)"
   ]
  },
  {
   "cell_type": "code",
   "execution_count": null,
   "id": "66580437",
   "metadata": {},
   "outputs": [],
   "source": [
    "#Usando Map\n",
    "\n",
    "numbers = [1, 2, 3, 4]\n",
    "numbers_v2 = list(map(lambda i: i *2, numbers))\n",
    "print(numbers_v2)"
   ]
  },
  {
   "cell_type": "code",
   "execution_count": null,
   "id": "efa0c444",
   "metadata": {},
   "outputs": [],
   "source": [
    "#otro ejemplo\n",
    "\n",
    "numbers_1 = [1, 2, 3, 4]\n",
    "numbers_2 = [5, 6, 7]\n",
    "#Hay que recordar que al sumar listas de diferente tamaño, su limite será la más pequeña\n",
    "\n",
    "result = list(map(lambda x, y: x + y, numbers_1 , numbers_2))\n",
    "\n",
    "print(result)"
   ]
  },
  {
   "cell_type": "markdown",
   "id": "f954b1a4",
   "metadata": {},
   "source": [
    "## Mapas con Diccionarios"
   ]
  },
  {
   "cell_type": "code",
   "execution_count": null,
   "id": "dc3c248c",
   "metadata": {},
   "outputs": [],
   "source": [
    "items = [\n",
    "  {\n",
    "    'product': 'camisa',\n",
    "    'price': 100,\n",
    "  },\n",
    "  {\n",
    "    'product': 'pantalones',\n",
    "    'price': 300\n",
    "  },\n",
    "  {\n",
    "    'product': 'pantalones 2',\n",
    "    'price': 200\n",
    "  }\n",
    "]\n",
    "#Aquí arriba se generó un diccionario\n",
    "\n",
    "prices = list(map(lambda item: item['price'], items))\n",
    "print(items)\n",
    "print(prices)\n",
    "\n",
    "def add_taxes(item):\n",
    "    item['taxes'] = item['price'] * .16\n",
    "    return item\n",
    "\n",
    "new_items = list(map(add_taxes, items))\n",
    "print(new_items)\n",
    "print(items)"
   ]
  },
  {
   "cell_type": "markdown",
   "id": "78ec71a0",
   "metadata": {},
   "source": [
    "### Desgraciadamente estamos modificando aquí los valores de la original, cosa que no queremos porque afectaría a los datos originales, mira como le podemos hacer para que no pase esom"
   ]
  },
  {
   "cell_type": "code",
   "execution_count": null,
   "id": "55360ac0",
   "metadata": {},
   "outputs": [],
   "source": [
    "items = [\n",
    "  {\n",
    "    'product': 'camisa',\n",
    "    'price': 100,\n",
    "  },\n",
    "  {\n",
    "    'product': 'pantalones',\n",
    "    'price': 300\n",
    "  },\n",
    "  {\n",
    "    'product': 'pantalones 2',\n",
    "    'price': 200\n",
    "  }\n",
    "]\n",
    "\n",
    "def add_taxes(item):\n",
    "    new_item = item.copy() #Con esta linea estamos indicando que trabaje con la copia\n",
    "    new_item[\"taxes\"] = new_item[\"price\"] *.16\n",
    "    return new_item\n",
    "\n",
    "new_items = list(map(add_taxes, items))\n",
    "print(\"New list\")\n",
    "print(new_items)\n",
    "print(\"Old List\")\n",
    "print(items)"
   ]
  },
  {
   "cell_type": "markdown",
   "id": "47a932fc",
   "metadata": {},
   "source": [
    "## Filter"
   ]
  },
  {
   "cell_type": "markdown",
   "id": "7be0aed6",
   "metadata": {},
   "source": [
    "Filter con listas"
   ]
  },
  {
   "cell_type": "code",
   "execution_count": null,
   "id": "6bc2be2a",
   "metadata": {},
   "outputs": [],
   "source": [
    "numbers = [1, 2, 3, 4, 5]\n",
    "new_numbers = list(filter(lambda x: x % 2 == 0, numbers))\n",
    "#Al ser solo filtro no modificó la original\n",
    "\n",
    "print(new_numbers)\n",
    "print(numbers)"
   ]
  },
  {
   "cell_type": "markdown",
   "id": "914d3c91",
   "metadata": {},
   "source": [
    "Filter con diccionarios"
   ]
  },
  {
   "cell_type": "code",
   "execution_count": null,
   "id": "f9ee28e5",
   "metadata": {},
   "outputs": [],
   "source": [
    "matches = [\n",
    "  {\n",
    "    'home_team': 'Bolivia',\n",
    "    'away_team': 'Uruguay',\n",
    "    'home_team_score': 3,\n",
    "    'away_team_score': 1,\n",
    "    'home_team_result': 'Win'\n",
    "  },\n",
    "  {\n",
    "    'home_team': 'Brazil',\n",
    "    'away_team': 'Mexico',\n",
    "    'home_team_score': 1,\n",
    "    'away_team_score': 1,\n",
    "    'home_team_result': 'Draw'\n",
    "  },\n",
    "  {\n",
    "    'home_team': 'Ecuador',\n",
    "    'away_team': 'Venezuela',\n",
    "    'home_team_score': 5,\n",
    "    'away_team_score': 0,\n",
    "    'home_team_result': 'Win'\n",
    "  },\n",
    "]\n",
    "\n",
    "#lista que contiene diccionarios\n",
    "\n",
    "print(matches)\n",
    "print(len(matches))\n",
    "\n",
    "new_list = list(filter(lambda item: item[\"home_team_result\"] == \"Win\" , matches))\n",
    "\n",
    "print(new_list)\n",
    "print(len(new_list))\n",
    "\n",
    "print(matches)\n",
    "print(len(matches))\n",
    "\n",
    "#Vemos igualmente que al hacer filter incluso en listas con diccionarios, estos no se ven afectados"
   ]
  },
  {
   "cell_type": "markdown",
   "id": "54ad95c3",
   "metadata": {},
   "source": [
    "## Reduce"
   ]
  },
  {
   "cell_type": "markdown",
   "id": "9430973b",
   "metadata": {},
   "source": [
    "Como podemos ver en la parte de arriba, hemos realizado una rambda reduce para hacer la suma de todo \n",
    "y devolvermelo sin crear la función"
   ]
  },
  {
   "cell_type": "code",
   "execution_count": null,
   "id": "f8d7c79e",
   "metadata": {},
   "outputs": [],
   "source": [
    "import functools\n",
    "\n",
    "numbers = [1, 2 ,3 ,4 ]\n",
    "\n",
    "result = functools.reduce(lambda counter, item: counter + item, numbers)\n",
    "\n",
    "print(result)"
   ]
  },
  {
   "cell_type": "markdown",
   "id": "be12e3a7",
   "metadata": {},
   "source": [
    "## Modulos"
   ]
  },
  {
   "cell_type": "code",
   "execution_count": null,
   "id": "49527238",
   "metadata": {},
   "outputs": [],
   "source": [
    "import sys\n",
    "print(sys.path)"
   ]
  },
  {
   "cell_type": "code",
   "execution_count": null,
   "id": "e6d1d499",
   "metadata": {},
   "outputs": [],
   "source": [
    "import re\n",
    "text = \"Mi numero de telefono es 811 717 8000, el código del pais es 51, mi numero de la suerte es 2\"\n",
    "\n",
    "result = re.findall(\"[0-9]+\", text)\n",
    "print(result)"
   ]
  },
  {
   "cell_type": "code",
   "execution_count": null,
   "id": "e6023f06",
   "metadata": {},
   "outputs": [],
   "source": [
    "import time \n",
    "timestamp = time.time()\n",
    "print(timestamp)"
   ]
  },
  {
   "cell_type": "markdown",
   "id": "b89cf600",
   "metadata": {},
   "source": [
    "Formato para entenderse humanamente"
   ]
  },
  {
   "cell_type": "code",
   "execution_count": null,
   "id": "ad3f8091",
   "metadata": {},
   "outputs": [],
   "source": [
    "import time \n",
    "timestamp = time.time()\n",
    "local = time.localtime()\n",
    "result = time.asctime(local)\n",
    "print(result)"
   ]
  },
  {
   "cell_type": "code",
   "execution_count": null,
   "id": "64b7eef9",
   "metadata": {},
   "outputs": [],
   "source": [
    "import collections \n",
    "\n",
    "numbers = [1, 1, 2, 4, 5, 5 ,7 ,7, 8, 8 ]\n",
    "counter = collections.Counter(numbers)\n",
    "print(counter)"
   ]
  },
  {
   "cell_type": "markdown",
   "id": "8f618298",
   "metadata": {},
   "source": [
    "## Crear modulos propios"
   ]
  },
  {
   "cell_type": "code",
   "execution_count": null,
   "id": "d3303d44",
   "metadata": {},
   "outputs": [],
   "source": [
    "#Supongamos que se llama utilidades este archivo\n",
    "\n",
    "def get_population():\n",
    "    key = [\"col\", \"bol\"]\n",
    "    values = [300, 400]\n",
    "    return keys, values\n",
    "\n",
    "A = \"Hola\"\n",
    "\n",
    "def population_by_country (data, country):\n",
    "    result = list(filter(lambda item: item[\"Country\"] == country, data))\n",
    "    return result\n"
   ]
  },
  {
   "cell_type": "code",
   "execution_count": null,
   "id": "8a4eeb10",
   "metadata": {},
   "outputs": [],
   "source": [
    "import mod\n",
    "\n",
    "keys, values = utilidades.get_population()\n",
    "\n",
    "print(keys, values)\n",
    "\n",
    "\n",
    "data = [\n",
    "    {\n",
    "        \"Country\": \" Colombia\",\n",
    "        \"Population\": 300\n",
    "    },\n",
    "    {\n",
    "        \"Country\": \"Bolivia\",\n",
    "        \"Population\": 300\n",
    "    }\n",
    "]\n",
    "print(utilidades.A)"
   ]
  },
  {
   "cell_type": "markdown",
   "id": "a3a1a7a2",
   "metadata": {},
   "source": [
    "## Lectura de archivos con Python"
   ]
  },
  {
   "cell_type": "code",
   "execution_count": null,
   "id": "7869da81",
   "metadata": {},
   "outputs": [],
   "source": [
    "file = open(\" ./text.txt\")\n",
    "print(file.read()) ## Esto lo lee completo\n",
    "\n",
    "print(file.readline()) ## Esto lo lee de uno a uno\n",
    "\n",
    "file.close() #Con esto la cerramos para que no nos consuma recursos"
   ]
  },
  {
   "cell_type": "code",
   "execution_count": null,
   "id": "282436e8",
   "metadata": {},
   "outputs": [],
   "source": [
    "file = open(\"./text.txt\")\n",
    "\n",
    "for line in file:\n",
    "    print(line)\n",
    "\n",
    "file.close()\n",
    "\n",
    "with open(\"./text.txt\") as file:\n",
    "    for line in file:\n",
    "        print(line)\n",
    "        \n",
    "#Cerrandolo de forma automatica"
   ]
  },
  {
   "cell_type": "markdown",
   "id": "55dca393",
   "metadata": {},
   "source": [
    "## Escribir en un archivo"
   ]
  },
  {
   "cell_type": "code",
   "execution_count": null,
   "id": "596ca121",
   "metadata": {},
   "outputs": [],
   "source": [
    "with open(\"./text.txt\", \"r+\") as file: #Con r+ podemos leer y aparte escribir\n",
    "    for line in file:                  #Si pones w+ se reescribe todo el archivo\n",
    "        print(line)\n",
    "        file.write(\"nuevas cosas en este acrchivo\\n\")\n",
    "        file.write(\"otra linea\\n\")\n",
    "        file.write(\"todavía otra linea\\\")\n",
    "                   "
   ]
  },
  {
   "cell_type": "markdown",
   "id": "ec938daa",
   "metadata": {},
   "source": [
    "## Lectura de archivos CSV"
   ]
  },
  {
   "cell_type": "code",
   "execution_count": null,
   "id": "cd1f3065",
   "metadata": {},
   "outputs": [],
   "source": [
    "import csv\n",
    "\n",
    "def read_csv(path):\n",
    "    with open(path, \"r\") as csvfile:\n",
    "        reader = csv.reader(csvfile, delimiter= \",\")\n",
    "        for row in reader:\n",
    "            print(\"***\" * 5)\n",
    "            print(row)\n",
    "            \n",
    "if __name__ == \"__main__\":\n",
    "    read_csv(\"./data.csv\")"
   ]
  },
  {
   "cell_type": "code",
   "execution_count": null,
   "id": "0d088a02",
   "metadata": {},
   "outputs": [],
   "source": [
    "assert true == false"
   ]
  },
  {
   "cell_type": "code",
   "execution_count": null,
   "id": "dc52e21b",
   "metadata": {},
   "outputs": [],
   "source": [
    "print (0/0)"
   ]
  },
  {
   "cell_type": "code",
   "execution_count": null,
   "id": "d936f1a7",
   "metadata": {},
   "outputs": [],
   "source": [
    "raise Exception(\"Error\")"
   ]
  },
  {
   "cell_type": "code",
   "execution_count": null,
   "id": "7d385509",
   "metadata": {},
   "outputs": [],
   "source": [
    "a = {1,2}\n",
    "b= {2,3}\n",
    "\n",
    "print(a&b)"
   ]
  },
  {
   "cell_type": "code",
   "execution_count": null,
   "id": "4a6e42d3",
   "metadata": {},
   "outputs": [],
   "source": []
  }
 ],
 "metadata": {
  "kernelspec": {
   "display_name": "Python 3 (ipykernel)",
   "language": "python",
   "name": "python3"
  },
  "language_info": {
   "codemirror_mode": {
    "name": "ipython",
    "version": 3
   },
   "file_extension": ".py",
   "mimetype": "text/x-python",
   "name": "python",
   "nbconvert_exporter": "python",
   "pygments_lexer": "ipython3",
   "version": "3.9.12"
  }
 },
 "nbformat": 4,
 "nbformat_minor": 5
}
