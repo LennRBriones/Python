{
 "cells": [
  {
   "cell_type": "markdown",
   "id": "8ec6d365",
   "metadata": {},
   "source": [
    "## Bienvenido a las prácticas de conocimiento intermedio de Python"
   ]
  },
  {
   "cell_type": "markdown",
   "id": "13e1436a",
   "metadata": {},
   "source": [
    "Listas y Diccionarios anidados"
   ]
  },
  {
   "cell_type": "code",
   "execution_count": null,
   "id": "2d620dfc",
   "metadata": {},
   "outputs": [],
   "source": [
    "def run():\n",
    "    my_list =[1,\"Hello\",True,4.5]\n",
    "    my_dict = {\"firstname\": \"Lenny\", \"lastname\": \"Briones\"}\n",
    "    \n",
    "    super_list = [\n",
    "        {\"firstname\": \"Lenny\", \"lastname\": \"Briones\"},\n",
    "        {\"firstname\": \"Juan\", \"lastname\": \"Lopez\"},\n",
    "        {\"firstname\": \"Pedro\", \"lastname\": \"Perez\"},\n",
    "        {\"firstname\": \"Miguel\", \"lastname\": \"Barrera\"},\n",
    "        {\"firstname\": \"Pepe\", \"lastname\": \"Escutia\"}\n",
    "    ]\n",
    "    \n",
    "    super_dict ={\n",
    "        \"natural_nums\": [1,2,3,4,5],\n",
    "        \"integer_nums\": [-1,-2,0,1,2],\n",
    "        \"flaoting_nums\": [1.1,4.5,6.43]\n",
    "    }\n",
    "    \n",
    "    for key, value in super_dict.items():\n",
    "        print(key,\"-\", value)\n",
    "    \n",
    "    ##Imprimir hora los vaores de super list\n",
    "    \n",
    "    for item in super_list:\n",
    "            print(item[\"firstname\"], \"-\", item[\"lastname\"])\n",
    "    \n",
    "if __name__ == \"__main__\":\n",
    "    run()"
   ]
  },
  {
   "cell_type": "markdown",
   "id": "e548fd91",
   "metadata": {},
   "source": [
    "### List Comprehensions"
   ]
  },
  {
   "cell_type": "code",
   "execution_count": null,
   "id": "c6c9f571",
   "metadata": {},
   "outputs": [],
   "source": [
    "def run():\n",
    "    squares =[]\n",
    "    for i in range(1,101):\n",
    "        squares.append(i**2)\n",
    "  #recuerda que con el append estas modificando una lista\n",
    "  #en este caso estás guardando cada i al cuadrado una por una \n",
    "    print(squares)\n",
    "    \n",
    "    \n",
    "if __name__ == \"__main__\" :\n",
    "    run()"
   ]
  },
  {
   "cell_type": "markdown",
   "id": "9524c1b5",
   "metadata": {},
   "source": [
    "### ahora solo de los que no son divisibles entre 3"
   ]
  },
  {
   "cell_type": "code",
   "execution_count": null,
   "id": "776a5119",
   "metadata": {},
   "outputs": [],
   "source": [
    "def run():\n",
    "    squares =[]\n",
    "    for i in range(1,101):\n",
    "        if i % 3 != 0:\n",
    "            squares.append(i**2)\n",
    "  #recuerda que con el append estas modificando una lista\n",
    "  #en este caso estás guardando cada i al cuadrado una por una \n",
    "    print(squares)\n",
    "    \n",
    "    \n",
    "if __name__ == \"__main__\" :\n",
    "    run()"
   ]
  },
  {
   "cell_type": "markdown",
   "id": "c830f46f",
   "metadata": {},
   "source": [
    "### Ahora usemos list comprehensions"
   ]
  },
  {
   "cell_type": "code",
   "execution_count": null,
   "id": "4fe57de2",
   "metadata": {},
   "outputs": [],
   "source": [
    "def run():\n",
    "    squares =[i**2 for i in range(1,101) if i % 3 != 0]\n",
    "    print(squares)\n",
    "    ## Como viste, es una manera super corta de hacer este tipo de cosas condicionales\n",
    "    \n",
    "if __name__ == \"__main__\" :\n",
    "    run()"
   ]
  },
  {
   "cell_type": "code",
   "execution_count": null,
   "id": "750efffe",
   "metadata": {},
   "outputs": [],
   "source": [
    "## Usar para crear lista que muestre todos los multiplos de 4, 6 y 9, hasta 5 digitos\n",
    "def run():\n",
    "    multiple= [i for i in range(1, 100000) if i % 4 == 0 and i % 6 == 0 and i % 9 == 0]\n",
    "    print(multiple)\n",
    "        \n",
    "if __name__ == \"__main__\" :\n",
    "    run()"
   ]
  },
  {
   "cell_type": "markdown",
   "id": "25156738",
   "metadata": {},
   "source": [
    "### Diccionarios cuyas llaves sean numeros del uno al 100 y valores el numero al cubo"
   ]
  },
  {
   "cell_type": "code",
   "execution_count": null,
   "id": "2b9d156f",
   "metadata": {},
   "outputs": [],
   "source": [
    "def run():\n",
    "    my_dict={}\n",
    "    \n",
    "    for i in range(1,101):\n",
    "        if i % 3 != 0:\n",
    "            my_dict[i] = i**3\n",
    "        \n",
    "    print(my_dict)\n",
    "    \n",
    "if __name__ == \"__main__\":\n",
    "    run()"
   ]
  },
  {
   "cell_type": "markdown",
   "id": "597c5ece",
   "metadata": {},
   "source": [
    "### Dict Comprenhensions"
   ]
  },
  {
   "cell_type": "code",
   "execution_count": null,
   "id": "4c1460b0",
   "metadata": {},
   "outputs": [],
   "source": [
    "def run():\n",
    "    \n",
    "    my_dict ={i: i**3 for i in range(1, 101) if i % 3 != 0}\n",
    "    \n",
    "    print(my_dict)\n",
    "    \n",
    "if __name__ == \"__main__\":\n",
    "    run()"
   ]
  },
  {
   "cell_type": "markdown",
   "id": "41ae13af",
   "metadata": {},
   "source": [
    "### Dict Comprenhensios con llave numeros del 1 al 1000 y valor la raiz de su numero"
   ]
  },
  {
   "cell_type": "code",
   "execution_count": null,
   "id": "6bbad016",
   "metadata": {},
   "outputs": [],
   "source": [
    "def run():\n",
    "    \n",
    "    my_dict = {i: i**(1/2) for i in range(1,1001) }\n",
    "    print(my_dict)\n",
    "if __name__ == \"__main__\":\n",
    "    run()"
   ]
  },
  {
   "cell_type": "markdown",
   "id": "8d49f6c2",
   "metadata": {},
   "source": [
    "### Utilizando Lambda Functions"
   ]
  },
  {
   "cell_type": "code",
   "execution_count": null,
   "id": "220ffc94",
   "metadata": {},
   "outputs": [],
   "source": [
    "palindrome = lambda string: string == string[::-1]\n",
    "\n",
    "print(palindrome(\"ana\"))"
   ]
  },
  {
   "cell_type": "markdown",
   "id": "8fb3f952",
   "metadata": {},
   "source": [
    "### Utilizando una función tradicional para hacer lo mismo"
   ]
  },
  {
   "cell_type": "code",
   "execution_count": 2,
   "id": "28639b2c",
   "metadata": {},
   "outputs": [
    {
     "name": "stdout",
     "output_type": "stream",
     "text": [
      "True\n"
     ]
    }
   ],
   "source": [
    "def palindrome(string):\n",
    "    return string == string[::1]\n",
    "print(palindrome(\"ana\"))\n",
    "    "
   ]
  },
  {
   "cell_type": "markdown",
   "id": "7836b41e",
   "metadata": {},
   "source": [
    "## High order Functions"
   ]
  },
  {
   "cell_type": "markdown",
   "id": "1555a054",
   "metadata": {},
   "source": [
    "### -Usando list comprehensions"
   ]
  },
  {
   "cell_type": "code",
   "execution_count": 4,
   "id": "277ea5d2",
   "metadata": {},
   "outputs": [
    {
     "name": "stdout",
     "output_type": "stream",
     "text": [
      "[1, 5, 9, 13, 19, 21]\n"
     ]
    }
   ],
   "source": [
    "my_list = [1,4,5,6,9,13,19,21]\n",
    "\n",
    "odd = [i for i in my_list if i % 2 != 0]\n",
    "\n",
    "print(odd)"
   ]
  },
  {
   "cell_type": "markdown",
   "id": "e42766ca",
   "metadata": {},
   "source": [
    "### Usando Filter"
   ]
  },
  {
   "cell_type": "code",
   "execution_count": 5,
   "id": "4d4797a5",
   "metadata": {},
   "outputs": [
    {
     "name": "stdout",
     "output_type": "stream",
     "text": [
      "[1, 5, 9, 13, 21]\n"
     ]
    }
   ],
   "source": [
    "my_list = [1,4,5,6,9,13,21]\n",
    "\n",
    "odd = list(filter(lambda x: x % 2 != 0, my_list))\n",
    "\n",
    "print(odd)"
   ]
  },
  {
   "cell_type": "markdown",
   "id": "5d03ce15",
   "metadata": {},
   "source": [
    "Sacando el cuadrado de una lista con list comprehensions"
   ]
  },
  {
   "cell_type": "code",
   "execution_count": 6,
   "id": "ae02d151",
   "metadata": {},
   "outputs": [
    {
     "name": "stdout",
     "output_type": "stream",
     "text": [
      "[1, 4, 9, 16, 25]\n"
     ]
    }
   ],
   "source": [
    "my_list = [1,2,3,4,5]\n",
    "\n",
    "squares = [i**2 for i in my_list]\n",
    "\n",
    "print(squares)"
   ]
  },
  {
   "cell_type": "markdown",
   "id": "0da82ea9",
   "metadata": {},
   "source": [
    "### Usando Map"
   ]
  },
  {
   "cell_type": "code",
   "execution_count": 9,
   "id": "fe5c9f4b",
   "metadata": {},
   "outputs": [
    {
     "name": "stdout",
     "output_type": "stream",
     "text": [
      "[1, 4, 9, 16, 25]\n"
     ]
    }
   ],
   "source": [
    "my_list = [1,2,3,4,5]\n",
    "\n",
    "squares = list(map(lambda x: x**2, my_list))\n",
    "\n",
    "print(squares)"
   ]
  },
  {
   "cell_type": "markdown",
   "id": "a45ec0aa",
   "metadata": {},
   "source": [
    "### Usando Reduce"
   ]
  },
  {
   "cell_type": "markdown",
   "id": "5873f286",
   "metadata": {},
   "source": [
    "tratando de multiplicar todos los valores de una lista sin reduce"
   ]
  },
  {
   "cell_type": "code",
   "execution_count": 10,
   "id": "88e95cb4",
   "metadata": {},
   "outputs": [
    {
     "name": "stdout",
     "output_type": "stream",
     "text": [
      "32\n"
     ]
    }
   ],
   "source": [
    "my_list = [2, 2, 2, 2, 2]\n",
    "\n",
    "all_multiplied = 1\n",
    "\n",
    "for i in my_list:\n",
    "    all_multiplied = all_multiplied * i\n",
    "    \n",
    "print(all_multiplied)"
   ]
  },
  {
   "cell_type": "markdown",
   "id": "ac39924a",
   "metadata": {},
   "source": [
    "ahora si usando reduce"
   ]
  },
  {
   "cell_type": "code",
   "execution_count": 11,
   "id": "10220e8a",
   "metadata": {},
   "outputs": [
    {
     "name": "stdout",
     "output_type": "stream",
     "text": [
      "32\n"
     ]
    }
   ],
   "source": [
    "from functools import reduce #para reduce hay que importar libreria\n",
    "\n",
    "my_list = [2, 2, 2, 2, 2]\n",
    "\n",
    "all_multiplied = reduce(lambda a, b: a*b, my_list)\n",
    "\n",
    "print(all_multiplied)"
   ]
  },
  {
   "cell_type": "markdown",
   "id": "30c0e849",
   "metadata": {},
   "source": [
    "## Filtración de datos"
   ]
  },
  {
   "cell_type": "code",
   "execution_count": 70,
   "id": "9c8083f1",
   "metadata": {},
   "outputs": [
    {
     "name": "stdout",
     "output_type": "stream",
     "text": [
      "{'name': 'Facundo', 'age': 72, 'organization': 'Platzi', 'position': 'Technical Coach', 'language': 'python', 'old': True}\n",
      "{'name': 'Luisana', 'age': 33, 'organization': 'Globant', 'position': 'UX Designer', 'language': 'javascript', 'old': False}\n",
      "{'name': 'Héctor', 'age': 19, 'organization': 'Platzi', 'position': 'Associate', 'language': 'ruby', 'old': False}\n",
      "{'name': 'Gabriel', 'age': 20, 'organization': 'Platzi', 'position': 'Associate', 'language': 'javascript', 'old': False}\n",
      "{'name': 'Isabella', 'age': 30, 'organization': 'Platzi', 'position': 'QA Manager', 'language': 'java', 'old': False}\n",
      "{'name': 'Karo', 'age': 23, 'organization': 'Everis', 'position': 'Backend Developer', 'language': 'python', 'old': False}\n",
      "{'name': 'Ariel', 'age': 32, 'organization': 'Rappi', 'position': 'Support', 'language': '', 'old': False}\n",
      "{'name': 'Juan', 'age': 17, 'organization': '', 'position': 'Student', 'language': 'go', 'old': False}\n",
      "{'name': 'Pablo', 'age': 32, 'organization': 'Master', 'position': 'Human Resources Manager', 'language': 'python', 'old': False}\n",
      "{'name': 'Lorena', 'age': 56, 'organization': 'Python Organization', 'position': 'Language Maker', 'language': 'python', 'old': False}\n"
     ]
    }
   ],
   "source": [
    "    ##Nota: norlmalmente cunado una variable la dejas en mayusculas, es porque será constante\n",
    "DATA = [\n",
    "    {\n",
    "        'name': 'Facundo',\n",
    "        'age': 72,\n",
    "        'organization': 'Platzi',\n",
    "        'position': 'Technical Coach',\n",
    "        'language': 'python',\n",
    "    },\n",
    "    {\n",
    "        'name': 'Luisana',\n",
    "        'age': 33,\n",
    "        'organization': 'Globant',\n",
    "        'position': 'UX Designer',\n",
    "        'language': 'javascript',\n",
    "    },\n",
    "    {\n",
    "        'name': 'Héctor',\n",
    "        'age': 19,\n",
    "        'organization': 'Platzi',\n",
    "        'position': 'Associate',\n",
    "        'language': 'ruby',\n",
    "    },\n",
    "    {\n",
    "        'name': 'Gabriel',\n",
    "        'age': 20,\n",
    "        'organization': 'Platzi',\n",
    "        'position': 'Associate',\n",
    "        'language': 'javascript',\n",
    "    },\n",
    "    {\n",
    "        'name': 'Isabella',\n",
    "        'age': 30,\n",
    "        'organization': 'Platzi',\n",
    "        'position': 'QA Manager',\n",
    "        'language': 'java',\n",
    "    },\n",
    "    {\n",
    "        'name': 'Karo',\n",
    "        'age': 23,\n",
    "        'organization': 'Everis',\n",
    "        'position': 'Backend Developer',\n",
    "        'language': 'python',\n",
    "    },\n",
    "    {\n",
    "        'name': 'Ariel',\n",
    "        'age': 32,\n",
    "        'organization': 'Rappi',\n",
    "        'position': 'Support',\n",
    "        'language': '',\n",
    "    },\n",
    "    {\n",
    "        'name': 'Juan',\n",
    "        'age': 17,\n",
    "        'organization': '',\n",
    "        'position': 'Student',\n",
    "        'language': 'go',\n",
    "    },\n",
    "    {\n",
    "        'name': 'Pablo',\n",
    "        'age': 32,\n",
    "        'organization': 'Master',\n",
    "        'position': 'Human Resources Manager',\n",
    "        'language': 'python',\n",
    "    },\n",
    "    {\n",
    "        'name': 'Lorena',\n",
    "        'age': 56,\n",
    "        'organization': 'Python Organization',\n",
    "        'position': 'Language Maker',\n",
    "        'language': 'python',\n",
    "    },\n",
    "]\n",
    "\n",
    "def run():\n",
    "     all_python_devs = [worker[\"name\"] for worker in DATA if worker[\"language\"] == \"python\"] \n",
    "     all_platzi_workers = [worker[\"name\"] for worker in DATA if worker[\"organization\"] == \"Platzi\"]\n",
    "     adults = list(filter(lambda worker: worker[\"age\"] >= 18, DATA))\n",
    "     adults = list(map(lambda worker: worker[\"name\"], adults ))\n",
    "     old_people = list(map(lambda worker: worker | {\"old\" : worker[\"age\"] > 70}, DATA))\n",
    "    \n",
    "     for worker in old_people:\n",
    "        print(worker)\n",
    "    \n",
    "if __name__ == \"__main__\":\n",
    "        run()"
   ]
  },
  {
   "cell_type": "markdown",
   "id": "314cedab",
   "metadata": {},
   "source": [
    "### Crear listas all_python_devs y all_python_workers usando combinaciones de filter y map y la lista de old_people usando list comprehensions"
   ]
  },
  {
   "cell_type": "code",
   "execution_count": 7,
   "id": "eea05da5",
   "metadata": {},
   "outputs": [
    {
     "name": "stdout",
     "output_type": "stream",
     "text": [
      "{'name': 'Facundo', 'age': 72, 'organization': 'Platzi', 'position': 'Technical Coach', 'language': 'python', 'old': True}\n",
      "{'name': 'Luisana', 'age': 33, 'organization': 'Globant', 'position': 'UX Designer', 'language': 'javascript', 'old': False}\n",
      "{'name': 'Héctor', 'age': 19, 'organization': 'Platzi', 'position': 'Associate', 'language': 'ruby', 'old': False}\n",
      "{'name': 'Gabriel', 'age': 20, 'organization': 'Platzi', 'position': 'Associate', 'language': 'javascript', 'old': False}\n",
      "{'name': 'Isabella', 'age': 30, 'organization': 'Platzi', 'position': 'QA Manager', 'language': 'java', 'old': False}\n",
      "{'name': 'Karo', 'age': 23, 'organization': 'Everis', 'position': 'Backend Developer', 'language': 'python', 'old': False}\n",
      "{'name': 'Ariel', 'age': 32, 'organization': 'Rappi', 'position': 'Support', 'language': '', 'old': False}\n",
      "{'name': 'Juan', 'age': 17, 'organization': '', 'position': 'Student', 'language': 'go', 'old': False}\n",
      "{'name': 'Pablo', 'age': 32, 'organization': 'Master', 'position': 'Human Resources Manager', 'language': 'python', 'old': False}\n",
      "{'name': 'Lorena', 'age': 56, 'organization': 'Python Organization', 'position': 'Language Maker', 'language': 'python', 'old': False}\n"
     ]
    }
   ],
   "source": [
    "DATA = [\n",
    "    {\n",
    "        'name': 'Facundo',\n",
    "        'age': 72,\n",
    "        'organization': 'Platzi',\n",
    "        'position': 'Technical Coach',\n",
    "        'language': 'python',\n",
    "    },\n",
    "    {\n",
    "        'name': 'Luisana',\n",
    "        'age': 33,\n",
    "        'organization': 'Globant',\n",
    "        'position': 'UX Designer',\n",
    "        'language': 'javascript',\n",
    "    },\n",
    "    {\n",
    "        'name': 'Héctor',\n",
    "        'age': 19,\n",
    "        'organization': 'Platzi',\n",
    "        'position': 'Associate',\n",
    "        'language': 'ruby',\n",
    "    },\n",
    "    {\n",
    "        'name': 'Gabriel',\n",
    "        'age': 20,\n",
    "        'organization': 'Platzi',\n",
    "        'position': 'Associate',\n",
    "        'language': 'javascript',\n",
    "    },\n",
    "    {\n",
    "        'name': 'Isabella',\n",
    "        'age': 30,\n",
    "        'organization': 'Platzi',\n",
    "        'position': 'QA Manager',\n",
    "        'language': 'java',\n",
    "    },\n",
    "    {\n",
    "        'name': 'Karo',\n",
    "        'age': 23,\n",
    "        'organization': 'Everis',\n",
    "        'position': 'Backend Developer',\n",
    "        'language': 'python',\n",
    "    },\n",
    "    {\n",
    "        'name': 'Ariel',\n",
    "        'age': 32,\n",
    "        'organization': 'Rappi',\n",
    "        'position': 'Support',\n",
    "        'language': '',\n",
    "    },\n",
    "    {\n",
    "        'name': 'Juan',\n",
    "        'age': 17,\n",
    "        'organization': '',\n",
    "        'position': 'Student',\n",
    "        'language': 'go',\n",
    "    },\n",
    "    {\n",
    "        'name': 'Pablo',\n",
    "        'age': 32,\n",
    "        'organization': 'Master',\n",
    "        'position': 'Human Resources Manager',\n",
    "        'language': 'python',\n",
    "    },\n",
    "    {\n",
    "        'name': 'Lorena',\n",
    "        'age': 56,\n",
    "        'organization': 'Python Organization',\n",
    "        'position': 'Language Maker',\n",
    "        'language': 'python',\n",
    "    },\n",
    "]\n",
    "\n",
    "def run():\n",
    "    all_python_devs = list(filter(lambda worker: worker[\"language\"] == \"python\", DATA))\n",
    "    all_python_devs = list(map(lambda worker: worker['name'], all_python_devs))\n",
    "    all_platzi_workers = list(filter(lambda worker: worker[\"organization\"] == \"Platzi\", DATA))\n",
    "    all_platzi_workers = list(map(lambda worker: worker[\"name\"], all_platzi_workers))\n",
    "    adults = [worker[\"name\"] for worker in DATA if worker[\"age\"] > 18]\n",
    "    old_confirmation = lambda worker_age: worker_age > 70\n",
    "    old_people = [worker | {\"old\": old_confirmation(worker[\"age\"])} for worker in DATA]\n",
    "\n",
    "    for worker in old_people:\n",
    "        print(worker)\n",
    "\n",
    "\n",
    "if __name__ == \"__main__\":\n",
    "    run()"
   ]
  },
  {
   "cell_type": "code",
   "execution_count": null,
   "id": "9d0301f9",
   "metadata": {},
   "outputs": [],
   "source": []
  }
 ],
 "metadata": {
  "kernelspec": {
   "display_name": "Python 3 (ipykernel)",
   "language": "python",
   "name": "python3"
  },
  "language_info": {
   "codemirror_mode": {
    "name": "ipython",
    "version": 3
   },
   "file_extension": ".py",
   "mimetype": "text/x-python",
   "name": "python",
   "nbconvert_exporter": "python",
   "pygments_lexer": "ipython3",
   "version": "3.10.6"
  }
 },
 "nbformat": 4,
 "nbformat_minor": 5
}
