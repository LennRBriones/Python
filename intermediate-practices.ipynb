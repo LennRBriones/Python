{
 "cells": [
  {
   "cell_type": "markdown",
   "id": "8ec6d365",
   "metadata": {},
   "source": [
    "## Bienvenido a las prácticas de conocimiento intermedio de Python"
   ]
  },
  {
   "cell_type": "markdown",
   "id": "13e1436a",
   "metadata": {},
   "source": [
    "Listas y Diccionarios anidados"
   ]
  },
  {
   "cell_type": "code",
   "execution_count": 2,
   "id": "2d620dfc",
   "metadata": {},
   "outputs": [
    {
     "name": "stdout",
     "output_type": "stream",
     "text": [
      "Lenny - Briones\n",
      "Juan - Lopez\n",
      "Pedro - Perez\n",
      "Miguel - Barrera\n",
      "Pepe - Escutia\n"
     ]
    }
   ],
   "source": [
    "def run():\n",
    "    my_list =[1,\"Hello\",True,4.5]\n",
    "    my_dict = {\"firstname\": \"Lenny\", \"lastname\": \"Briones\"}\n",
    "    \n",
    "    super_list = [\n",
    "        {\"firstname\": \"Lenny\", \"lastname\": \"Briones\"},\n",
    "        {\"firstname\": \"Juan\", \"lastname\": \"Lopez\"},\n",
    "        {\"firstname\": \"Pedro\", \"lastname\": \"Perez\"},\n",
    "        {\"firstname\": \"Miguel\", \"lastname\": \"Barrera\"},\n",
    "        {\"firstname\": \"Pepe\", \"lastname\": \"Escutia\"}\n",
    "    ]\n",
    "    \n",
    "    super_dict ={\n",
    "        \"natural_nums\": [1,2,3,4,5],\n",
    "        \"integer_nums\": [-1,-2,0,1,2],\n",
    "        \"flaoting_nums\": [1.1,4.5,6.43]\n",
    "    }\n",
    "    \n",
    "    for key, value in super_dict.items():\n",
    "        print(key,\"-\", value)\n",
    "    \n",
    "    ##Imprimir hora los vaores de super list\n",
    "    \n",
    "    for item in super_list:\n",
    "            print(item[\"firstname\"], \"-\", item[\"lastname\"])\n",
    "    \n",
    "if __name__ == \"__main__\":\n",
    "    run()"
   ]
  },
  {
   "cell_type": "markdown",
   "id": "e548fd91",
   "metadata": {},
   "source": [
    "### List Comprehensions"
   ]
  },
  {
   "cell_type": "code",
   "execution_count": 3,
   "id": "c6c9f571",
   "metadata": {},
   "outputs": [
    {
     "name": "stdout",
     "output_type": "stream",
     "text": [
      "[1, 4, 9, 16, 25, 36, 49, 64, 81, 100, 121, 144, 169, 196, 225, 256, 289, 324, 361, 400, 441, 484, 529, 576, 625, 676, 729, 784, 841, 900, 961, 1024, 1089, 1156, 1225, 1296, 1369, 1444, 1521, 1600, 1681, 1764, 1849, 1936, 2025, 2116, 2209, 2304, 2401, 2500, 2601, 2704, 2809, 2916, 3025, 3136, 3249, 3364, 3481, 3600, 3721, 3844, 3969, 4096, 4225, 4356, 4489, 4624, 4761, 4900, 5041, 5184, 5329, 5476, 5625, 5776, 5929, 6084, 6241, 6400, 6561, 6724, 6889, 7056, 7225, 7396, 7569, 7744, 7921, 8100, 8281, 8464, 8649, 8836, 9025, 9216, 9409, 9604, 9801, 10000]\n"
     ]
    }
   ],
   "source": [
    "def run():\n",
    "    squares =[]\n",
    "    for i in range(1,101):\n",
    "        squares.append(i**2)\n",
    "  #recuerda que con el append estas modificando una lista\n",
    "  #en este caso estás guardando cada i al cuadrado una por una \n",
    "    print(squares)\n",
    "    \n",
    "    \n",
    "if __name__ == \"__main__\" :\n",
    "    run()"
   ]
  },
  {
   "cell_type": "markdown",
   "id": "9524c1b5",
   "metadata": {},
   "source": [
    "### ahora solo de los que no son divisibles entre 3"
   ]
  },
  {
   "cell_type": "code",
   "execution_count": 4,
   "id": "776a5119",
   "metadata": {},
   "outputs": [
    {
     "name": "stdout",
     "output_type": "stream",
     "text": [
      "[1, 4, 16, 25, 49, 64, 100, 121, 169, 196, 256, 289, 361, 400, 484, 529, 625, 676, 784, 841, 961, 1024, 1156, 1225, 1369, 1444, 1600, 1681, 1849, 1936, 2116, 2209, 2401, 2500, 2704, 2809, 3025, 3136, 3364, 3481, 3721, 3844, 4096, 4225, 4489, 4624, 4900, 5041, 5329, 5476, 5776, 5929, 6241, 6400, 6724, 6889, 7225, 7396, 7744, 7921, 8281, 8464, 8836, 9025, 9409, 9604, 10000]\n"
     ]
    }
   ],
   "source": [
    "def run():\n",
    "    squares =[]\n",
    "    for i in range(1,101):\n",
    "        if i % 3 != 0:\n",
    "            squares.append(i**2)\n",
    "  #recuerda que con el append estas modificando una lista\n",
    "  #en este caso estás guardando cada i al cuadrado una por una \n",
    "    print(squares)\n",
    "    \n",
    "    \n",
    "if __name__ == \"__main__\" :\n",
    "    run()"
   ]
  },
  {
   "cell_type": "markdown",
   "id": "c830f46f",
   "metadata": {},
   "source": [
    "### Ahora usemos un list comprehensions"
   ]
  },
  {
   "cell_type": "code",
   "execution_count": 8,
   "id": "4fe57de2",
   "metadata": {},
   "outputs": [
    {
     "name": "stdout",
     "output_type": "stream",
     "text": [
      "[1, 4, 16, 25, 49, 64, 100, 121, 169, 196, 256, 289, 361, 400, 484, 529, 625, 676, 784, 841, 961, 1024, 1156, 1225, 1369, 1444, 1600, 1681, 1849, 1936, 2116, 2209, 2401, 2500, 2704, 2809, 3025, 3136, 3364, 3481, 3721, 3844, 4096, 4225, 4489, 4624, 4900, 5041, 5329, 5476, 5776, 5929, 6241, 6400, 6724, 6889, 7225, 7396, 7744, 7921, 8281, 8464, 8836, 9025, 9409, 9604, 10000]\n"
     ]
    }
   ],
   "source": [
    "def run():\n",
    "    squares =[i**2 for i in range(1,101) if i % 3 != 0]\n",
    "    print(squares)\n",
    "    ## Como viste, es una manera super corta de hacer este tipo de cosas condicionales\n",
    "    \n",
    "if __name__ == \"__main__\" :\n",
    "    run()"
   ]
  },
  {
   "cell_type": "code",
   "execution_count": null,
   "id": "750efffe",
   "metadata": {},
   "outputs": [],
   "source": []
  }
 ],
 "metadata": {
  "kernelspec": {
   "display_name": "Python 3 (ipykernel)",
   "language": "python",
   "name": "python3"
  },
  "language_info": {
   "codemirror_mode": {
    "name": "ipython",
    "version": 3
   },
   "file_extension": ".py",
   "mimetype": "text/x-python",
   "name": "python",
   "nbconvert_exporter": "python",
   "pygments_lexer": "ipython3",
   "version": "3.9.12"
  }
 },
 "nbformat": 4,
 "nbformat_minor": 5
}
