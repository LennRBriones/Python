{
 "cells": [
  {
   "cell_type": "markdown",
   "id": "e61a866d",
   "metadata": {},
   "source": [
    "# Instalar temas en jupyter notebook"
   ]
  },
  {
   "cell_type": "code",
   "execution_count": null,
   "id": "3ec0c016",
   "metadata": {},
   "outputs": [],
   "source": [
    "pip install jupyterthemes"
   ]
  },
  {
   "cell_type": "code",
   "execution_count": null,
   "id": "16bb4d65",
   "metadata": {},
   "outputs": [],
   "source": [
    "pip install --upgrade jupyterthemes"
   ]
  },
  {
   "cell_type": "code",
   "execution_count": null,
   "id": "b05bf221",
   "metadata": {},
   "outputs": [],
   "source": [
    "!jt -l "
   ]
  },
  {
   "cell_type": "code",
   "execution_count": null,
   "id": "fecadeef",
   "metadata": {},
   "outputs": [],
   "source": [
    "!jt -t [theme name] -T -N -kl"
   ]
  }
 ],
 "metadata": {
  "kernelspec": {
   "display_name": "Python 3 (ipykernel)",
   "language": "python",
   "name": "python3"
  },
  "language_info": {
   "codemirror_mode": {
    "name": "ipython",
    "version": 3
   },
   "file_extension": ".py",
   "mimetype": "text/x-python",
   "name": "python",
   "nbconvert_exporter": "python",
   "pygments_lexer": "ipython3",
   "version": "3.10.4"
  }
 },
 "nbformat": 4,
 "nbformat_minor": 5
}
