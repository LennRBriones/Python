{
 "cells": [
  {
   "cell_type": "code",
   "execution_count": null,
   "id": "203b05cf",
   "metadata": {},
   "outputs": [],
   "source": [
    "\n",
    "nombre = \"Juan\"\n",
    "apellido = \"Gonzalez\"\n",
    "nombres = nombre + \" \" + apellido\n",
    "print (nombres)\n"
   ]
  },
  {
   "cell_type": "code",
   "execution_count": null,
   "id": "94245669",
   "metadata": {},
   "outputs": [],
   "source": [
    "nombre = \"Juan\"\n",
    "print (nombre * 4)"
   ]
  },
  {
   "cell_type": "code",
   "execution_count": null,
   "id": "65d4f4fc",
   "metadata": {},
   "outputs": [],
   "source": [
    "es_estudiante = True\n",
    "trabajador = False \n",
    "print (es_estudiante)"
   ]
  },
  {
   "cell_type": "code",
   "execution_count": null,
   "id": "ee209811",
   "metadata": {},
   "outputs": [],
   "source": [
    "numero = input(\"Escribe hijo de la chistorra\")\n",
    "numero2= input(\"A ber, otro a ver si muy bergas\")\n",
    "suma= numero + numero2\n",
    "print(suma)\n",
    "\n",
    "## Todo meco jajaja debes de ponerlo como int ##\n",
    "numero = int(numero)\n",
    "numero2 = int(numero2)\n",
    "sumanueva = numero + numero2\n",
    "print(sumanueva)"
   ]
  },
  {
   "cell_type": "code",
   "execution_count": null,
   "id": "f61b7ac9",
   "metadata": {},
   "outputs": [],
   "source": [
    "## Amos a ir imprimiendo decimales##\n",
    "numero_decimal = 3.4\n",
    "int(numero_decimal)\n",
    "str(numero_decimal)"
   ]
  },
  {
   "cell_type": "code",
   "execution_count": null,
   "id": "a3b028d6",
   "metadata": {},
   "outputs": [],
   "source": [
    "## Operadores logicos y comparación ##\n",
    "es_estudiante = True\n",
    "es_estudiante\n",
    "\n",
    "trabaja = False\n",
    "\n",
    "es_estudiante and trabaja\n",
    "\n",
    "es_estudiante or trabaja\n",
    "\n",
    "not es_estudiante \n",
    "not trabaja\n",
    "\n",
    "numero = 3\n",
    "numero2 = 3\n",
    "\n",
    "numero == numero2\n",
    "\n",
    "numero3 = 5\n",
    "\n",
    "numero != numero3\n",
    "\n",
    "numero < numero2\n",
    "numero > numero2\n",
    "\n",
    "numero <= numero2\n",
    "numero >= numero2"
   ]
  },
  {
   "cell_type": "code",
   "execution_count": null,
   "id": "8efeadb0",
   "metadata": {},
   "outputs": [],
   "source": [
    "# Pasar de pesos colombianos a dolares parcero jaja ##\n",
    "\n",
    "pesos = input(\"Ingresamela jajaja, digo, pon el dinero\")\n",
    "pesos= float(pesos)\n",
    "# así es, debe ser float porque es decimal #\n",
    "\n",
    "dolar= 3875\n",
    "dolares = pesos/dolar\n",
    "dolares = round(dolares,2) ## Esto para redondear##\n",
    "dolares = str(dolares)\n",
    "print(\"Tienes $\" + dolares + \" dolares en la bolsa\")\n",
    "\n",
    "\n"
   ]
  },
  {
   "cell_type": "code",
   "execution_count": null,
   "id": "f6d6f4be",
   "metadata": {},
   "outputs": [],
   "source": [
    "## Condicionales ##\n",
    "edad = int(input(\"Digita tu edad\"))\n",
    "if edad >= 18:\n",
    "    print(\"Buena esa perro\")\n",
    "else: \n",
    "    print(\"Puto el que lo lea\")"
   ]
  },
  {
   "cell_type": "code",
   "execution_count": null,
   "id": "30200520",
   "metadata": {},
   "outputs": [],
   "source": [
    "## Condicionales elif ##\n",
    "numero = int(input(\"Introducetela\"))\n",
    "if numero > 5:\n",
    "    print(\"Es mayor a 5\")\n",
    "elif numero == 5:\n",
    "    print(\"Es igual a 5\")\n",
    "else: \n",
    "    print(\"Tonses es menor a 5\")"
   ]
  },
  {
   "cell_type": "code",
   "execution_count": null,
   "id": "cec2923a",
   "metadata": {},
   "outputs": [],
   "source": [
    "## Agregar if al conversor de monedas ##\n",
    "\n",
    "menu = \"\"\"\n",
    "Bienvenido al conversor de monedas perro :p\n",
    "\n",
    "1 - Pesos colombianos\n",
    "2 - Pesos argentinos\n",
    "3 - Pesos mexicanos\n",
    "\"\"\"\n",
    "#Así es, con esto puedes añadir una cadena de string larga\n",
    "\n",
    "opcion = int(input(menu))\n",
    "\n",
    "if opcion == 1:\n",
    "    pesos = float(input(\"¿Cuanto varo traes?\"))\n",
    "    dolar = 3875\n",
    "    dolares = pesos/dolar\n",
    "    dolares = round(dolares,2)\n",
    "    dolares = str(dolares)\n",
    "    print (\"Tienes la enorme cantidad de \" + dolares + \" dolares en bolsa\" )\n",
    "\n",
    "elif opcion == 2: \n",
    "    pesos = float(input(\"¿Cuanto varo traes?\"))\n",
    "    dolar = 65\n",
    "    dolares = pesos/dolar\n",
    "    dolares = round(dolares,2)\n",
    "    dolares = str(dolares)\n",
    "    print (\"Tienes la enorme cantidad de \" + dolares + \" dolares en bolsa\" )\n",
    "    \n",
    "elif opcion == 3:\n",
    "    pesos = float(input(\"¿Cuanto varo traes?\"))\n",
    "    dolar = 20\n",
    "    dolares = pesos/dolar\n",
    "    dolares = round(dolares,2)\n",
    "    dolares = str(dolares)\n",
    "    print (\"Tienes la enorme cantidad de \" + dolares + \" dolares en bolsa\" )\n",
    "    \n",
    "else: \n",
    "    print(\"Ah te mamaste, escribe bien, berga\")\n"
   ]
  },
  {
   "cell_type": "code",
   "execution_count": null,
   "id": "eceadcf6",
   "metadata": {},
   "outputs": [],
   "source": [
    "## Ahora veremos funciones, pon atención perro##\n",
    "def imprimir_mensaje():\n",
    "    print(\"Que onda perro a aprender a usar funciones\")\n",
    "    print(\"Que onda perro a aprender a usar funciones 2\")\n",
    "    print(\"Que onda perro a aprender a usar funciones 3\")        \n",
    "\n",
    "imprimir_mensaje()\n"
   ]
  },
  {
   "cell_type": "code",
   "execution_count": null,
   "id": "5626fc4e",
   "metadata": {},
   "outputs": [],
   "source": [
    "##Parametros en las funciones##\n",
    "def conversacion(mensaje):\n",
    "        print(\"Buenas noches\")\n",
    "        print(\"¿Cómo andamios?, ¿sabes?\")\n",
    "        print(mensaje + \", Perro\")\n",
    "    \n",
    "opcion = int(input(\"Elige la opción que quieras, 1, 2 o 3\"))\n",
    "if opcion == 1:\n",
    "        conversacion(\"Elegiste la opción 1\")\n",
    "elif opcion == 2:\n",
    "        conversacion(\"Elegiste la opción 2\")\n",
    "elif opcion == 3:\n",
    "        conversacion(\"Elegiste la opción 3\")\n",
    "else: \n",
    "     print(\"Te mamaste\") "
   ]
  },
  {
   "cell_type": "code",
   "execution_count": null,
   "id": "d3f0534f",
   "metadata": {},
   "outputs": [],
   "source": [
    "## Usando Return, se usa para guardar el valor resultado en una funcion ##\n",
    "\n",
    "def suma(a,b):\n",
    "    print(\"Se suman 2 numeros\")\n",
    "    resultado = a + b \n",
    "    return resultado \n",
    "\n",
    "sumatoria = suma(1,4)\n",
    "print (sumatoria)"
   ]
  },
  {
   "cell_type": "code",
   "execution_count": null,
   "id": "bac784ec",
   "metadata": {},
   "outputs": [],
   "source": [
    "## Mejorando conversor de monedas, siempre poner las funciones arriba Y RESPETAR LOS 4 ESPACIOS ##\n",
    "\n",
    "def conversor(tipo_pesos,valor_dolares):\n",
    "    pesos = float(input(\"Hey Banco!, ¿Cuantos \" + tipo_pesos + \" Llevas contigo? :\"))\n",
    "    dolares = pesos/valor_dolares\n",
    "    dolares = round(dolares, 2)\n",
    "    dolares = str(dolares)\n",
    "    print(\"Llevas contigo la enorme cantidad de \" + dolares + \" dolares en tu poder jaja\")\n",
    "\n",
    "menu = \"\"\"\n",
    "Que tal, mira esto es lo que te venimos manejando para ver cuantos dolarukos llevas:\n",
    "\n",
    "1 = Traes Pesos de Colombia\n",
    "2 = Traes Pesos de Argentina\n",
    "3 = Traes Pesos de mi Mexico lindo y querido\n",
    "\n",
    "Elige solo una bitch: \"\"\"\n",
    "\n",
    "opcion = int(input(menu))\n",
    "\n",
    "if opcion == 1: \n",
    "    conversor(\"Colombianos\", 3875)\n",
    "elif opcion == 2:\n",
    "    conversor(\"Argentinos\", 65)\n",
    "elif opcion == 3:\n",
    "    conversor(\"Mexicanos\", 24)\n",
    "else: \n",
    "    print(\"No ingresaste ningún valor valido que pes\")"
   ]
  },
  {
   "cell_type": "code",
   "execution_count": null,
   "id": "aa345eb9",
   "metadata": {},
   "outputs": [],
   "source": [
    "## Trabajando con caracteres, Metodos (Metodo UPPER) ##\n",
    "\n",
    "nombre = input(\"Ingresamela, osea tu nombre\")\n",
    "print(nombre.upper())"
   ]
  },
  {
   "cell_type": "code",
   "execution_count": null,
   "id": "e0b7a9b1",
   "metadata": {},
   "outputs": [],
   "source": [
    "## Trabajando con caracteres, Metodos (Metodo CAPITALIZE) ##\n",
    "nombre = input(\"Ingresamela, osea tu nombre\")\n",
    "nombre = nombre.capitalize()\n",
    "print(nombre)\n"
   ]
  },
  {
   "cell_type": "code",
   "execution_count": null,
   "id": "8fd13fc5",
   "metadata": {},
   "outputs": [],
   "source": [
    "## Trabajando con caracteres, Metodos (Metodo Strip, para quitar espacios) ##\n",
    "nombre = input(\"Ingresamela, osea tu nombre\")\n",
    "nombre = nombre.strip()\n",
    "nombre = nombre.capitalize()\n",
    "\n",
    "print(nombre)"
   ]
  },
  {
   "cell_type": "code",
   "execution_count": null,
   "id": "a077a46c",
   "metadata": {},
   "outputs": [],
   "source": [
    "## Trabajando con caracteres, Metodos (Metodo LOWER) ##\n",
    "\n",
    "nombre = input(\"Ingresamela, osea tu nombre\")\n",
    "print(nombre.lower())"
   ]
  },
  {
   "cell_type": "code",
   "execution_count": null,
   "id": "01d59255",
   "metadata": {},
   "outputs": [],
   "source": [
    "## Trabajando con caracteres, Metodos (Metodo REPLACE) ##\n",
    "\n",
    "amigo = input(\"¿Cómo se dice Amigo?\")\n",
    "print(amigo.replace(\"e\", \"a\"))\n"
   ]
  },
  {
   "cell_type": "code",
   "execution_count": null,
   "id": "146e5266",
   "metadata": {},
   "outputs": [],
   "source": [
    "## Ora vamos a usar Indices de una manera sencija, mira nomas ##\n",
    "\n",
    "nombre = input(\"¿Nombre?\")\n",
    "nombre [0]\n",
    "nombre [1]"
   ]
  },
  {
   "cell_type": "code",
   "execution_count": null,
   "id": "6361c3eb",
   "metadata": {},
   "outputs": [],
   "source": [
    "## Ora vamos a usar len, para verla lo largo de una cadena str ##\n",
    "len (nombre)\n",
    "len (amigo)\n",
    "len(\"Hola, ¿cuantas letras tendrá esta cadena?\")"
   ]
  },
  {
   "cell_type": "code",
   "execution_count": null,
   "id": "f0cf8fed",
   "metadata": {},
   "outputs": [],
   "source": [
    "## Esto no está en notion 30-01-2022 ##"
   ]
  },
  {
   "cell_type": "code",
   "execution_count": null,
   "id": "ab88d957",
   "metadata": {},
   "outputs": [],
   "source": [
    "##Bucle While##\n",
    "\n",
    "def run():\n",
    "    LIMITE = 100000\n",
    "## Si a una variable la pones en mayuscula se hace constante ##\n",
    "    contador = 0\n",
    "    potencia = 2**contador\n",
    "    while potencia < LIMITE:\n",
    "        print(\"2 Elevado a \" + str(contador) + \" es igual a: \" + str(potencia))\n",
    "        # Hay que recordar que solo se debe concatenar str con str #\n",
    "        contador = contador + 1\n",
    "        potencia = 2**contador\n",
    "\n",
    "\n",
    "if __name__ == \"__main__\":\n",
    "    run()"
   ]
  },
  {
   "cell_type": "code",
   "execution_count": null,
   "id": "da0cfaf8",
   "metadata": {},
   "outputs": [],
   "source": [
    "## Mini ejemplo propio While ##\n",
    "\n",
    "contador = 0 \n",
    "while contador < 101:\n",
    "    print(\"Numero \" + str(contador))\n",
    "    contador = contador + 1\n"
   ]
  },
  {
   "cell_type": "code",
   "execution_count": null,
   "id": "a63bd47b",
   "metadata": {},
   "outputs": [],
   "source": [
    "## usando += 1 ##\n",
    "contador = 0 \n",
    "while contador < 101:\n",
    "    print(\"Numero \" + str(contador))\n",
    "    contador +=1\n",
    "    "
   ]
  },
  {
   "cell_type": "code",
   "execution_count": null,
   "id": "d67e8ca8",
   "metadata": {},
   "outputs": [],
   "source": [
    "## Bucle for ##\n",
    "\n",
    "for contador in range(1,101):\n",
    "    print(contador)\n",
    "    "
   ]
  },
  {
   "cell_type": "code",
   "execution_count": null,
   "id": "d438ff18",
   "metadata": {},
   "outputs": [],
   "source": [
    "## Ejemplo for, tabla del 11 ##\n",
    "for i in range(10):\n",
    "    print(11*i)"
   ]
  },
  {
   "cell_type": "code",
   "execution_count": null,
   "id": "5739d290",
   "metadata": {},
   "outputs": [],
   "source": [
    "## Recorrer cadenas de caracteres ##\n",
    "\n",
    "def run():\n",
    "    nombre = input(\"Escribe tu nombre\")\n",
    "    for letra in nombre:\n",
    "        print(letra)\n",
    "\n",
    "if __name__ == \"__main__\":\n",
    "    run()"
   ]
  },
  {
   "cell_type": "code",
   "execution_count": null,
   "id": "34277114",
   "metadata": {},
   "outputs": [],
   "source": [
    "## Imprimiendo caracteres en mayuscula ##\n",
    "def run():\n",
    "    frase = input(\"Escribe una frase\")\n",
    "    for caracter in frase:\n",
    "        print(caracter.upper())\n",
    "\n",
    "if __name__ == \"__main__\":\n",
    "    run()"
   ]
  },
  {
   "cell_type": "code",
   "execution_count": null,
   "id": "82b29df7",
   "metadata": {},
   "outputs": [],
   "source": [
    "## Interrumpiendo ciclos con Break y continue ##\n",
    "\n",
    "def run ():\n",
    "    for contador in range(1000):\n",
    "        if contador % 2 != 0:\n",
    "            continue\n",
    "        print(contador)\n",
    "    \n",
    "if __name__ == \"__main__\":\n",
    "    run()\n"
   ]
  },
  {
   "cell_type": "code",
   "execution_count": null,
   "id": "e484f397",
   "metadata": {},
   "outputs": [],
   "source": [
    "### Ahora veamoa el break perro##\n",
    "\n",
    "def run():\n",
    "    for i in range(1000):\n",
    "        print(i)\n",
    "        if i == 567:\n",
    "            break\n",
    "    \n",
    "if __name__ == \"__main__\":\n",
    "    run()"
   ]
  },
  {
   "cell_type": "code",
   "execution_count": null,
   "id": "b76631e3",
   "metadata": {},
   "outputs": [],
   "source": [
    "## Otro con break pero ahora con texto##\n",
    "\n",
    "def run():\n",
    "    texto = input(\"Escribe un texto perrro guau: \")\n",
    "    for letra in texto:\n",
    "        if letra == \"o\" or letra == \"O\":\n",
    "            break\n",
    "        print(letra)\n",
    "    \n",
    "if __name__ == \"__main__\":\n",
    "    run()"
   ]
  },
  {
   "cell_type": "code",
   "execution_count": 17,
   "id": "31575b55",
   "metadata": {},
   "outputs": [
    {
     "name": "stdout",
     "output_type": "stream",
     "text": [
      "Introduce un numero: 1\n",
      "es mi primo jaja \n"
     ]
    }
   ],
   "source": [
    "## Prueba de primalidad ##\n",
    "def es_primo(numero):\n",
    "    contador = 0\n",
    "    \n",
    "    for i in range(1, numero + 1):\n",
    "        if i == 1 or i == numero:\n",
    "            continue\n",
    "        if numero % i == 0:\n",
    "            contador += 1\n",
    "    if contador == 0:\n",
    "        return True\n",
    "    else: \n",
    "        return False\n",
    "\n",
    "def run():\n",
    "    numero = int(input(\"Introduce un numero: \"))\n",
    "    if es_primo(numero): ##Pude haber puesto despues del parentesis ==True##\n",
    "        print(\"es mi primo jaja \")\n",
    "    else: \n",
    "        print(\"chale no es mi primo :c \")\n",
    "    \n",
    "if __name__ == \"__main__\":\n",
    "    run()"
   ]
  },
  {
   "cell_type": "code",
   "execution_count": 22,
   "id": "e8726827",
   "metadata": {},
   "outputs": [
    {
     "data": {
      "text/plain": [
       "<function list.pop(index=-1, /)>"
      ]
     },
     "execution_count": 22,
     "metadata": {},
     "output_type": "execute_result"
    }
   ],
   "source": [
    "## Almacenar varios valores en una variable tipo lista##\n",
    "\n",
    "numeros = [1,2,3,4,5,7,7]\n",
    "objetos =[\"Hola\",2,\"aynom\",3,4,56]\n",
    "\n",
    "objetos[1] #Revisar el numero 1 osea el segundo\n",
    "\n",
    "objetos.pop(1) #con este se elimina\n",
    "\n",
    "objetos.append(False) #Con este añado\n",
    "\n",
    "\n",
    "\n"
   ]
  },
  {
   "cell_type": "code",
   "execution_count": null,
   "id": "900fa498",
   "metadata": {},
   "outputs": [],
   "source": []
  }
 ],
 "metadata": {
  "kernelspec": {
   "display_name": "Python 3 (ipykernel)",
   "language": "python",
   "name": "python3"
  },
  "language_info": {
   "codemirror_mode": {
    "name": "ipython",
    "version": 3
   },
   "file_extension": ".py",
   "mimetype": "text/x-python",
   "name": "python",
   "nbconvert_exporter": "python",
   "pygments_lexer": "ipython3",
   "version": "3.9.12"
  }
 },
 "nbformat": 4,
 "nbformat_minor": 5
}
